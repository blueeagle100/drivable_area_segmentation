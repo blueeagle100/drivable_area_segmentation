{
 "cells": [
  {
   "cell_type": "markdown",
   "metadata": {},
   "source": [
    "# Explore the Dice Loss"
   ]
  },
  {
   "cell_type": "markdown",
   "metadata": {},
   "source": [
    "In this notebook we will briefly explore the Dice Loss and show how it's computed.\n",
    "\n",
    "The Dice Loss is derived from the [Dice-Sorensen Coefficient](https://en.wikipedia.org/wiki/S%C3%B8rensen%E2%80%93Dice_coefficient) relates the intersection of the predicted area and target area with the union of the predicted area and target area in a very similar manner to the [Intersection over Union (IoU)](https://en.wikipedia.org/wiki/Jaccard_index) loss."
   ]
  },
  {
   "cell_type": "markdown",
   "metadata": {},
   "source": [
    "Notation: \n",
    "- P: Predicted Area\n",
    "- T: Target Area\n",
    "- IoU: Intersection over Union\n",
    "- DSC: Dice-Sorensen Coeficient\n",
    "\n",
    "$$\n",
    "\\begin{align*}\n",
    "    IoU = \\frac{|P \\cap T|}{|P \\cup T|}\n",
    "    \\\\ \\\\\n",
    "    DSC = \\frac{2 |P \\cap T|}{|P| + |T|}\n",
    "\\end{align*}\n",
    "$$\n",
    "\n",
    "Observing these definitions, we can see that scores for IoU and DSC range from $ 0 \\leq (IoU/DSC) \\leq 1 $, where 1 indicates a perfect score."
   ]
  },
  {
   "cell_type": "markdown",
   "metadata": {},
   "source": [
    "Now that we have formally defined IoU and DSC, let's dive in and take a more intuitive look at what they do."
   ]
  },
  {
   "cell_type": "code",
   "execution_count": 186,
   "metadata": {},
   "outputs": [],
   "source": [
    "import numpy as np\n",
    "import cv2\n",
    "\n",
    "import matplotlib.pyplot as plt\n",
    "\n",
    "# get image\n",
    "image = np.zeros((500, 500, 3), dtype=np.uint8) + 100\n",
    "\n",
    "tgt_pts = [[250, 100], [350, 250]]\n",
    "pred_pts = [[200, 125], [325, 275]]\n",
    "# intersect_pts = [[250, 125], [325, 250]]\n",
    "\n",
    "# Use opencv to add prediction and target areas\n",
    "# image = cv2.rectangle(image, tgt_pts[0], tgt_pts[1], (255, 255, 0), thickness=-1) # draw target\n",
    "# image = cv2.rectangle(image, pred_pts[0], pred_pts[1], (255, 0, 255), thickness=-1) # draw prediction\n",
    "# image = cv2.rectangle(image, overlap_pts[0], overlap_pts[1], (0, 255, 0), thickness=-1) # draw overlap\n",
    "\n",
    "# use numpy to slice the areas\n",
    "image[100:250, 250:350] = [255, 255, 0] # tgt\n",
    "image[125:275, 200:325] = [255, 0, 255] # prediction\n",
    "# image[125:250, 250:325] = [0, 255, 0] # intersection\n",
    "\n",
    "target = image[100:250, 250:350].copy()\n",
    "prediction = image[125:275, 200:325].copy()\n",
    "# intersection_ = image[125:250, 250:325].copy()\n",
    "\n",
    "# compute intersection\n",
    "y1 = max([tgt_pts[0][1], pred_pts[0][1]])\n",
    "y2 = max([tgt_pts[0][0], pred_pts[0][0]])\n",
    "\n",
    "x1 = min([tgt_pts[1][1], pred_pts[1][1]])\n",
    "x2 = min([tgt_pts[1][0], pred_pts[1][0]])\n",
    "\n",
    "image[y1:y2, x1:x2] = [0, 255, 0] # intersection\n",
    "intersection = image[y1:y2, x1:x2].copy()"
   ]
  },
  {
   "cell_type": "code",
   "execution_count": 189,
   "metadata": {},
   "outputs": [
    {
     "data": {
      "image/png": "[encoded data removed]",
      "text/plain": [
       "<Figure size 360x360 with 1 Axes>"
      ]
     },
     "metadata": {
      "needs_background": "light"
     },
     "output_type": "display_data"
    }
   ],
   "source": [
    "fig = plt.figure(figsize=(5, 5))\n",
    "plt.imshow(image);"
   ]
  },
  {
   "cell_type": "markdown",
   "metadata": {},
   "source": [
    "The area of intersection in green is also know as a True Positive (TP), the uncovered target in yellow is known as a False Negative (FN), the incorrect portion of the prediction in magenta is known as a False Positive (FP). If we add the following: \n",
    "$$ TP + FN + FP = |P \\cup T| = \\text{Union} $$\n",
    "\n",
    "We can also see that the TP is:\n",
    "$$ TP = |P \\cap T| = \\text{Intersection} $$\n",
    "\n",
    "We can now rewrite the IoU and DSC in terms of True Positive, False Negative, and False Positive:\n",
    "\n",
    "$$\n",
    "\\begin{align*}\n",
    "    IoU = \\frac{TP}{TP + FN + FP}\n",
    "    \\\\ \\\\\n",
    "    DSC = \\frac{2 \\cdot TP}{2 \\cdot TP + FN + FP}\n",
    "\\end{align*}\n",
    "$$\n",
    "\n",
    "The denominator of the DSC comes from the fact that we just add the predicted with the target, this is analgous to the union of the predicted and target plus the intersection:\n",
    "    \n",
    "$$ |P \\cup T| + |P \\cap T| $$\n",
    "\n"
   ]
  },
  {
   "cell_type": "markdown",
   "metadata": {},
   "source": [
    "<br>\n",
    "<br>\n",
    "\n",
    "Using this information we can compute the [Precision and Recall](https://en.wikipedia.org/wiki/Precision_and_recall#Precision) of our prediction.\n",
    "\n",
    "Notation:\n",
    "- TP: True Positive\n",
    "- FP: False Positive\n",
    "- FN: False Negative\n",
    "- TN: True Negative\n",
    "$$\n",
    "\\begin{align*}\n",
    "    \\text{Precision} &= \\frac{TP}{TP + FP}\n",
    "    \\\\ \\\\\n",
    "    \\text{Recall} &= \\frac{TP}{TP + FN}\n",
    "\\end{align*}\n",
    "$$"
   ]
  },
  {
   "cell_type": "markdown",
   "metadata": {},
   "source": [
    "<br>\n",
    "<br>\n",
    "\n",
    "I use the following mnemonic to help remeber what Precision and Recall actually stand for:\n",
    "- \"Positive Precision\" --> Precision is the ratio of True Positive to True and False Positives\n",
    "- \"Real Recall\" &emsp; &ensp; &ensp;  --> Recall is the ratio of True Positives to the (combined) number of target values\n",
    "<br>\n",
    "$$ |\\text{Target Values}| = |TP + FN| $$\n",
    "\n",
    "This isnt a perfect mnemonic, but it is helpful when starting to use Precision and Recall\n",
    "\n",
    "<br>\n",
    "<br>"
   ]
  },
  {
   "cell_type": "markdown",
   "metadata": {},
   "source": [
    "## How do Precision and Recall relate to the Dice Coefficient?\n",
    "\n",
    "The Dice-Sorenson Coefficient is actually the [F1-Score](https://en.wikipedia.org/wiki/F-score). The F1 score is the harmonic mean of the Precision and Recall, which means that it provides a measure for both the precision and the recall.\n",
    "\n",
    "$$\n",
    "\\begin{align*}\n",
    "    F1 = \\frac{2}{\\frac{1}{\\text{Precision}} + \\frac{1}{\\text{Recall}}} = \\frac{2 \\cdot TP}{2 \\cdot TP + FN + FP} = DSC\n",
    "\\end{align*}\n",
    "$$\n",
    "\n",
    "The derivation is shown in the appendix"
   ]
  },
  {
   "cell_type": "markdown",
   "metadata": {},
   "source": [
    "## How do we compute the Dice Loss?"
   ]
  },
  {
   "cell_type": "markdown",
   "metadata": {},
   "source": [
    "We can compute the Dice Coefficient as:\n",
    "\n",
    "$$ \n",
    "\\begin{align}\n",
    "    DSC = \\frac{2 * \\sum_j |P \\cap T|_j }{\\sum_i |P_i| + |T_i| + \\epsilon} , \\qquad \\epsilon > 0\n",
    "\\end{align}\n",
    "$$\n",
    "\n",
    "Where $ \\epsilon $ prevents division by 0\n",
    "\n",
    "Remember: $ 0 \\leq DSC \\leq 1 $, where 1 indicates a perfect score. Most optimizers are equipped for minimization, so we would like to have 0 equal to the perfect score. To do this we simply subtract the DSC from 1:\n",
    "\n",
    "$$ \n",
    "\\begin{align}\n",
    "    \\text{Dice Loss} = 1 - DSC \n",
    "\\end{align}\n",
    "$$"
   ]
  },
  {
   "cell_type": "code",
   "execution_count": 152,
   "metadata": {},
   "outputs": [
    {
     "name": "stdout",
     "output_type": "stream",
     "text": [
      "tensor([[[[0.1422, 0.1093, 0.5076, 0.6641, 0.6876],\n",
      "          [0.0994, 0.0593, 0.6191, 0.4130, 0.3638],\n",
      "          [0.5187, 0.2465, 0.3413, 0.3857, 0.1046]],\n",
      "\n",
      "         [[0.7981, 0.5505, 0.2023, 0.2478, 0.1289],\n",
      "          [0.1771, 0.1676, 0.2888, 0.3531, 0.3765],\n",
      "          [0.2417, 0.0702, 0.4224, 0.3205, 0.0742]],\n",
      "\n",
      "         [[0.0597, 0.3402, 0.2901, 0.0881, 0.1834],\n",
      "          [0.7235, 0.7730, 0.0922, 0.2340, 0.2597],\n",
      "          [0.2396, 0.6834, 0.2363, 0.2938, 0.8212]]]])\n",
      "tensor([[[1, 1, 0, 0, 0],\n",
      "         [2, 2, 0, 0, 1],\n",
      "         [0, 2, 1, 0, 2]]])\n",
      "tensor([[[0, 2, 0, 0, 2],\n",
      "         [0, 2, 0, 2, 0],\n",
      "         [1, 2, 0, 1, 2]]])\n"
     ]
    }
   ],
   "source": [
    "import torch\n",
    "\n",
    "N = 3 # number of classes\n",
    "outputs = torch.randn(1, N, 3, 5)\n",
    "output_soft = torch.softmax(outputs, dim=1)\n",
    "predictions = torch.argmax(output_soft, dim=1)\n",
    "\n",
    "targets = torch.empty(1, 3, 5, dtype=torch.long).random_(N)\n",
    "\n",
    "print(output_soft)\n",
    "print(predictions)\n",
    "print(targets)\n"
   ]
  },
  {
   "cell_type": "code",
   "execution_count": 173,
   "metadata": {},
   "outputs": [],
   "source": [
    "# one hot encode the targets\n",
    "targets_one_hot = torch.zeros_like(output_soft)\n",
    "for i in range(N):\n",
    "    targets_one_hot[0, i, targets.squeeze(0) == i] = 1"
   ]
  },
  {
   "cell_type": "code",
   "execution_count": 174,
   "metadata": {},
   "outputs": [
    {
     "data": {
      "text/plain": [
       "tensor([[[[1., 0., 1., 1., 0.],\n",
       "          [1., 0., 1., 0., 1.],\n",
       "          [0., 0., 1., 0., 0.]],\n",
       "\n",
       "         [[0., 0., 0., 0., 0.],\n",
       "          [0., 0., 0., 0., 0.],\n",
       "          [1., 0., 0., 1., 0.]],\n",
       "\n",
       "         [[0., 1., 0., 0., 1.],\n",
       "          [0., 1., 0., 1., 0.],\n",
       "          [0., 1., 0., 0., 1.]]]])"
      ]
     },
     "execution_count": 174,
     "metadata": {},
     "output_type": "execute_result"
    }
   ],
   "source": [
    "targets_one_hot"
   ]
  },
  {
   "cell_type": "code",
   "execution_count": 178,
   "metadata": {},
   "outputs": [
    {
     "name": "stdout",
     "output_type": "stream",
     "text": [
      "tensor([6.3349])\n",
      "tensor([30.])\n"
     ]
    }
   ],
   "source": [
    "intersection = torch.sum(output_soft * targets_one_hot, dim=(1, 2, 3))\n",
    "cardinality = torch.sum(output_soft + targets_one_hot, dim=(1, 2, 3))\n",
    "\n",
    "print(intersection)\n",
    "print(cardinality)"
   ]
  },
  {
   "cell_type": "code",
   "execution_count": 179,
   "metadata": {},
   "outputs": [
    {
     "data": {
      "text/plain": [
       "tensor([0.5777])"
      ]
     },
     "execution_count": 179,
     "metadata": {},
     "output_type": "execute_result"
    }
   ],
   "source": [
    "eps = 1e-6\n",
    "dice_loss = 1 - (2 * intersection / (cardinality + eps))\n",
    "dice_loss"
   ]
  },
  {
   "cell_type": "code",
   "execution_count": 182,
   "metadata": {},
   "outputs": [],
   "source": [
    "def dice_loss(outputs, targets):\n",
    "    eps = 1e-6\n",
    "\n",
    "    output_soft = torch.softmax(outputs, dim=1)\n",
    "    predictions = torch.argmax(output_soft, dim=1)\n",
    "\n",
    "    # one hot encode the targets\n",
    "    targets_one_hot = torch.zeros_like(output_soft)\n",
    "    for i in range(N):\n",
    "        targets_one_hot[0, i, targets.squeeze(0) == i] = 1\n",
    "\n",
    "    \n",
    "    intersection = torch.sum(output_soft * targets_one_hot, dim=(1, 2, 3))\n",
    "    cardinality = torch.sum(output_soft + targets_one_hot, dim=(1, 2, 3))\n",
    "\n",
    "    dice_loss = 1 - (2 * intersection / (cardinality + eps))\n",
    "\n",
    "    return dice_loss"
   ]
  },
  {
   "cell_type": "code",
   "execution_count": 181,
   "metadata": {},
   "outputs": [
    {
     "data": {
      "text/plain": [
       "tensor(0.5777)"
      ]
     },
     "execution_count": 181,
     "metadata": {},
     "output_type": "execute_result"
    }
   ],
   "source": [
    "import torchgeometry as tgm\n",
    "tgm.losses.DiceLoss()(outputs, targets)"
   ]
  },
  {
   "cell_type": "code",
   "execution_count": 109,
   "metadata": {},
   "outputs": [
    {
     "data": {
      "text/plain": [
       "tensor(0.8609, grad_fn=<MeanBackward0>)"
      ]
     },
     "execution_count": 109,
     "metadata": {},
     "output_type": "execute_result"
    }
   ],
   "source": [
    "import torch\n",
    "\n",
    "\n",
    "N = 5 # number of classes\n",
    "predictions = torch.randn(1, N, 3, 5, requires_grad=True)\n",
    "targets = torch.empty(1, 3, 5, dtype=torch.long).random_(N)\n",
    "\n",
    "tgm.losses.DiceLoss()(predictions, targets)"
   ]
  },
  {
   "cell_type": "code",
   "execution_count": 110,
   "metadata": {},
   "outputs": [
    {
     "data": {
      "text/plain": [
       "torch.float32"
      ]
     },
     "execution_count": 110,
     "metadata": {},
     "output_type": "execute_result"
    }
   ],
   "source": [
    "predictions.dtype"
   ]
  },
  {
   "cell_type": "markdown",
   "metadata": {},
   "source": [
    "## Appendix\n",
    "\n",
    "Relate the F1-score to the Dice-Sorenson Coefficient\n",
    "\n",
    "$$\n",
    "\\begin{align*}\n",
    "    F1 &= \\frac{2}{\\frac{\\text{Recall}}{\\text{Precision} \\cdot \\text{Recall}} + \\frac{\\text{Precision}}{\\text{Precision} \\cdot \\text{Recall}}}\n",
    "\\\\\n",
    "\\\\\n",
    "&= 2 \\frac{(\\text{Precision} \\cdot \\text{Recall})}{\\text{Precision} + \\text{Recall}}\n",
    "\\\\\n",
    "\\\\\n",
    "&= 2 \\frac{\\frac{TP}{TP + FP} \\cdot \\frac{TP}{TP + FN}}{\\frac{TP}{TP + FP} + \\frac{TP}{TP + FN}}\n",
    "\\\\\n",
    "\\\\\n",
    "&= 2 \\frac{\\frac{TP}{(TP + FP) \\cdot (TP + FN)}}{\\frac{1}{TP + FP} + \\frac{1}{TP + FN}}\n",
    "\\\\\n",
    "\\\\\n",
    "&= 2 \\frac{\\frac{TP}{(TP + FP) \\cdot (TP + FN)}}{\\frac{(TP + FN) + (TP + FP)}{(TP + FP) \\cdot (TP + FN)}}\n",
    "\\\\\n",
    "\\\\\n",
    "&= 2 \\frac{TP}{(TP + FN) + (TP + FP)}\n",
    "\\\\\n",
    "\\\\\n",
    "&= \\frac{2 \\cdot TP}{2 \\cdot TP + FN + FP}\n",
    "\\end{align*}\n",
    "$$\n"
   ]
  }
 ],
 "metadata": {
  "kernelspec": {
   "display_name": "Python 3.8.12 ('base')",
   "language": "python",
   "name": "python3"
  },
  "language_info": {
   "codemirror_mode": {
    "name": "ipython",
    "version": 3
   },
   "file_extension": ".py",
   "mimetype": "text/x-python",
   "name": "python",
   "nbconvert_exporter": "python",
   "pygments_lexer": "ipython3",
   "version": "3.8.12"
  },
  "orig_nbformat": 4,
  "vscode": {
   "interpreter": {
    "hash": "6c3515861ec4313dacaa20b0eec5bf326e6557b6589b7b6a4fe3c8baa566747d"
   }
  }
 },
 "nbformat": 4,
 "nbformat_minor": 2
}
